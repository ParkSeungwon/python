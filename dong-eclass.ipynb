{
 "cells": [
  {
   "cell_type": "code",
   "execution_count": 1,
   "metadata": {
    "collapsed": false
   },
   "outputs": [],
   "source": [
    "from selenium import webdriver\n",
    "from selenium.webdriver.support.ui import WebDriverWait\n",
    "from selenium.webdriver.common.keys import Keys\n",
    "import time\n",
    "drv = webdriver.Firefox()\n",
    "drv.get('https://eclass.dongguk.edu')\n",
    "\n",
    "delay = 20\n",
    "WebDriverWait(drv, delay).until(lambda x: x.find_element_by_name('main'))\n",
    "time.sleep(5)\n",
    "drv.switch_to_frame(drv.find_element_by_name('main'))"
   ]
  },
  {
   "cell_type": "code",
   "execution_count": 2,
   "metadata": {
    "collapsed": false
   },
   "outputs": [],
   "source": [
    "WebDriverWait(drv, delay).until(lambda x: x.find_element_by_partial_link_text(u'학생')).click()\n",
    "\n",
    "id = drv.find_element_by_id('id')\n",
    "id.clear()\n",
    "id.send_keys('2016110056')\n",
    "\n",
    "pw = drv.find_element_by_id('pw')\n",
    "pw.clear()\n",
    "pw.send_keys('cockcodk0_')\n",
    "pw.send_keys(Keys.RETURN)\n",
    "\n",
    "WebDriverWait(drv, delay).until(lambda x: x.find_element_by_id('layerPopup')).send_keys(Keys.ESCAPE)\n",
    "\n",
    "drv.find_element_by_xpath(\"//button[contains(@onclick, '박미화')]\").click()\n",
    "\n",
    "WebDriverWait(drv, delay).until(lambda x : x.find_element_by_xpath(\"//ul[@id='leftMenu']/li[4]\")).click()\n",
    "\n",
    "WebDriverWait(drv, delay).until(lambda x: x.find_element_by_link_text('과제')).click()"
   ]
  },
  {
   "cell_type": "code",
   "execution_count": 3,
   "metadata": {
    "collapsed": true
   },
   "outputs": [],
   "source": [
    "drv.close()"
   ]
  }
 ],
 "metadata": {
  "kernelspec": {
   "display_name": "Python 2",
   "language": "python",
   "name": "python2"
  },
  "language_info": {
   "codemirror_mode": {
    "name": "ipython",
    "version": 2
   },
   "file_extension": ".py",
   "mimetype": "text/x-python",
   "name": "python",
   "nbconvert_exporter": "python",
   "pygments_lexer": "ipython2",
   "version": "2.7.12"
  }
 },
 "nbformat": 4,
 "nbformat_minor": 2
}
